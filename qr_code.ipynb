{
  "nbformat": 4,
  "nbformat_minor": 0,
  "metadata": {
    "colab": {
      "provenance": [],
      "authorship_tag": "ABX9TyPi7ZR5bVtw9gYmH/i0Q8b4",
      "include_colab_link": true
    },
    "kernelspec": {
      "name": "python3",
      "display_name": "Python 3"
    },
    "language_info": {
      "name": "python"
    }
  },
  "cells": [
    {
      "cell_type": "markdown",
      "metadata": {
        "id": "view-in-github",
        "colab_type": "text"
      },
      "source": [
        "<a href=\"https://colab.research.google.com/github/W83w/TestTasks/blob/main/qr_code.ipynb\" target=\"_parent\"><img src=\"https://colab.research.google.com/assets/colab-badge.svg\" alt=\"Open In Colab\"/></a>"
      ]
    },
    {
      "cell_type": "code",
      "execution_count": null,
      "metadata": {
        "colab": {
          "base_uri": "https://localhost:8080/"
        },
        "id": "reomnC6yjfCb",
        "outputId": "232a0638-da31-44ae-d6fe-072a7ac98aad"
      },
      "outputs": [
        {
          "output_type": "stream",
          "name": "stdout",
          "text": [
            "Looking in indexes: https://pypi.org/simple, https://us-python.pkg.dev/colab-wheels/public/simple/\n",
            "Requirement already satisfied: qrcode in /usr/local/lib/python3.10/dist-packages (7.4.2)\n",
            "Requirement already satisfied: pillow in /usr/local/lib/python3.10/dist-packages (8.4.0)\n",
            "Requirement already satisfied: typing-extensions in /usr/local/lib/python3.10/dist-packages (from qrcode) (4.5.0)\n",
            "Requirement already satisfied: pypng in /usr/local/lib/python3.10/dist-packages (from qrcode) (0.20220715.0)\n"
          ]
        }
      ],
      "source": [
        "!pip install qrcode pillow\n",
        "import qrcode"
      ]
    },
    {
      "cell_type": "code",
      "source": [
        "def site():\n",
        "  website_link = 'https://github.com/W83w?tab=repositories'\n",
        "  qr = qrcode.QRCode(version = 1, box_size = 5, border = 5)\n",
        "  qr.add_data(website_link)\n",
        "  qr.make()\n",
        "  img = qr.make_image(fill_color = 'black', back_color = 'white')\n",
        "  img.save('QR.png')\n",
        "\n",
        "\n",
        "site()"
      ],
      "metadata": {
        "id": "CAEPtQY6jtJq"
      },
      "execution_count": null,
      "outputs": []
    },
    {
      "cell_type": "code",
      "source": [
        "def phone():\n",
        "  number = int(input(\"Введите номер для генерации \"))\n",
        "  phone_number = number\n",
        "  qr = qrcode.QRCode(version = 1, box_size = 5, border = 5)\n",
        "  qr.add_data(phone_number)\n",
        "  qr.make()\n",
        "  img = qr.make_image(fill_color = 'black', back_color = 'white')\n",
        "  img.save('Phone.png')\n",
        "\n",
        "\n",
        "phone()"
      ],
      "metadata": {
        "colab": {
          "base_uri": "https://localhost:8080/"
        },
        "id": "G4-wfRfhmgG7",
        "outputId": "7c8e1857-003f-4312-f73d-6b09d043f25b"
      },
      "execution_count": null,
      "outputs": [
        {
          "name": "stdout",
          "output_type": "stream",
          "text": [
            "Введите номер для генерации 22222222222\n"
          ]
        }
      ]
    }
  ]
}